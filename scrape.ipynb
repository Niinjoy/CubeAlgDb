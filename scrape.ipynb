{
 "metadata": {
  "language_info": {
   "codemirror_mode": {
    "name": "ipython",
    "version": 3
   },
   "file_extension": ".py",
   "mimetype": "text/x-python",
   "name": "python",
   "nbconvert_exporter": "python",
   "pygments_lexer": "ipython3",
   "version": "3.8.3"
  },
  "orig_nbformat": 2,
  "kernelspec": {
   "name": "python383jvsc74a57bd05110be81f097a33e51a63f2d799b4ae23e1ad3b8a3fd16682dfe1d86f378e7c1",
   "display_name": "Python 3.8.3 64-bit ('base': conda)"
  }
 },
 "nbformat": 4,
 "nbformat_minor": 2,
 "cells": [
  {
   "cell_type": "code",
   "execution_count": 1,
   "metadata": {},
   "outputs": [],
   "source": [
    "import requests\n",
    "from bs4 import BeautifulSoup "
   ]
  },
  {
   "cell_type": "code",
   "execution_count": 2,
   "metadata": {},
   "outputs": [
    {
     "output_type": "stream",
     "name": "stdout",
     "text": [
      "<Response [200]>\n"
     ]
    }
   ],
   "source": [
    "algset = \"PLL\" # F2L, OLL, PLL\n",
    "url = \"https://www.speedcubedb.com/a/3x3/\"+algset\n",
    "res = requests.get(url)\n",
    "print(res)"
   ]
  },
  {
   "cell_type": "code",
   "execution_count": 3,
   "metadata": {
    "tags": []
   },
   "outputs": [
    {
     "output_type": "stream",
     "name": "stdout",
     "text": [
      "PLL - Speed Cube Database\n"
     ]
    }
   ],
   "source": [
    "soup = BeautifulSoup(res.content,'html.parser')\n",
    "title = soup.title.text\n",
    "print(title)"
   ]
  },
  {
   "cell_type": "code",
   "execution_count": 4,
   "metadata": {},
   "outputs": [
    {
     "output_type": "stream",
     "name": "stdout",
     "text": [
      "[{'name': 'PLL01', 'algset': 'PLL', 'case': 'Aa', 'catalog': 'Adj Swap', 'alt1': \"x R' U R' D2 R U' R' D2 R2 x'\", 'alt2': \"y x' R2 D2 R' U' R D2 R' U R' x\", 'alt3': \"R' B' R2 D R' U' R D' R' U R' B R\", 'alt4': \"y' x L2 D2 L' U' L D2 L' U L'\", 'vlink': 'https://www.youtube.com/watch?v=TWN9LNCHQY8&start=7s', 'vimg': 'https://img.youtube.com/vi/TWN9LNCHQY8/0.jpg', 'fc': 'yyyyyyyyyrogooooooggbggggggwwwwwwwwwbrrrrrrrrobobbbbbb', 'ori': 0}, {'name': 'PLL02', 'algset': 'PLL', 'case': 'Ab', 'catalog': 'Adj Swap', 'alt1': \"x R2 D2 R U R' D2 R U' R x'\", 'alt2': \"R' B' R U' R D R' U R D' R2' B R\", 'alt3': \"y x' R U' R D2 R' U R D2 R2 x\", 'alt4': \"y' x L U' L D2 L' U L D2 L2\", 'vlink': 'https://www.youtube.com/watch?v=TWN9LNCHQY8&start=19s', 'vimg': 'https://img.youtube.com/vi/TWN9LNCHQY8/0.jpg', 'fc': 'yyyyyyyyybobooooooggoggggggwwwwwwwwworrrrrrrrrbgbbbbbb', 'ori': 0}, {'name': 'PLL03', 'algset': 'PLL', 'case': 'E', 'catalog': 'Opp Swap', 'alt1': \"y x' R U' R' D R U R' D' R U R' D R U' R' D' x\", 'alt2': \"y R' U' R' D' R U' R' D R U R' D' R U R' D R2\", 'alt3': \"y x' L' U L D' L' U' L D L' U' L D' L' U L D\", 'alt4': \"r U R U' r' F R' F' r U R' U' r' F R F'\", 'vlink': 'https://www.youtube.com/watch?v=Ge5OOjD9k_k&start=0s', 'vimg': 'https://img.youtube.com/vi/Ge5OOjD9k_k/0.jpg', 'fc': 'yyyyyyyyyrgogggggggrbrrrrrrwwwwwwwwwobrbbbbbbbogoooooo', 'ori': 0}, {'name': 'PLL04', 'algset': 'PLL', 'case': 'F', 'catalog': 'Adj Swap', 'alt1': \"y R' U' F' R U R' U' R' F R2 U' R' U' R U R' U R\", 'alt2': \"R' U R U' R2 F' U' F U R F R' F' R2\", 'alt3': \"y R' F R f' R' F R2 U R' U' R' F' R2 U R' S\", 'alt4': \"y R2' F R F' R' U' F' U F R2 U R' U' R\", 'vlink': 'https://www.youtube.com/watch?v=JvqGU0UZPcE&start=135s', 'vimg': 'https://img.youtube.com/vi/JvqGU0UZPcE/0.jpg', 'fc': 'yyyyyyyyygboggggggrrrrrrrrrwwwwwwwwwogbbbbbbbbogoooooo', 'ori': 0}, {'name': 'PLL05', 'algset': 'PLL', 'case': 'Ga', 'catalog': 'Adj Swap', 'alt1': \"R2 U R' U R' U' R U' R2 D U' R' U R D'\", 'alt2': \"R2 u R' U R' U' R u' R2 F' U F\", 'alt3': \"D' R2 U R' U R' U' R U' R2 U' D R' U R\", 'alt4': \"R2 U R' U R' U' R U' R2' D U' R' U R D'\", 'vlink': 'https://www.youtube.com/watch?v=nBMCuMiSFIg&start=23s', 'vimg': 'https://img.youtube.com/vi/nBMCuMiSFIg/0.jpg', 'fc': 'yyyyyyyyybrgoooooogooggggggwwwwwwwwwrbrrrrrrrogbbbbbbb', 'ori': 0}, {'name': 'PLL06', 'algset': 'PLL', 'case': 'Gb', 'catalog': 'Adj Swap', 'alt1': \"R' U' R U D' R2 U R' U R U' R U' R2 D\", 'alt2': \"y F' U' F R2 u R' U R U' R u' R2\", 'alt3': \"R' d' F R2 u R' U R U' R u' R2\", 'alt4': \"D R' U' R U D' R2 U R' U R U' R U' R2\", 'vlink': 'https://www.youtube.com/watch?v=nBMCuMiSFIg&start=46s', 'vimg': 'https://img.youtube.com/vi/nBMCuMiSFIg/0.jpg', 'fc': 'yyyyyyyyybggoooooogboggggggwwwwwwwwwrorrrrrrrorbbbbbbb', 'ori': 0}, {'name': 'PLL07', 'algset': 'PLL', 'case': 'Gc', 'catalog': 'Adj Swap', 'alt1': \"R2 U' R U' R U R' U R2 D' U R U' R' D\", 'alt2': \"y2 R2 F2 R U2 R U2 R' F R U R' U' R' F R2\", 'alt3': \"R2' u' R U' R U R' u R2 f R' f'\", 'alt4': \"R2' U' R U' R U R' U R2 D' U R U' R' D\", 'vlink': 'https://www.youtube.com/watch?v=nBMCuMiSFIg&start=150s', 'vimg': 'https://img.youtube.com/vi/nBMCuMiSFIg/0.jpg', 'fc': 'yyyyyyyyybrgoooooogboggggggwwwwwwwwwrgrrrrrrroobbbbbbb', 'ori': 0}, {'name': 'PLL08', 'algset': 'PLL', 'case': 'Gd', 'catalog': 'Adj Swap', 'alt1': \"R U R' U' D R2 U' R U' R' U R' U R2 D'\", 'alt2': \"D' R U R' U' D R2 U' R U' R' U R' U R2\", 'alt3': \"R U R' y' R2 u' R U' R' U R' u R2\", 'alt4': \"y R2 F' R U R U' R' F' R U2 R' U2 R' F2 R2\", 'vlink': 'https://www.youtube.com/watch?v=nBMCuMiSFIg&start=154s', 'vimg': 'https://img.youtube.com/vi/nBMCuMiSFIg/0.jpg', 'fc': 'yyyyyyyyybbgoooooogroggggggwwwwwwwwwrorrrrrrrogbbbbbbb', 'ori': 0}, {'name': 'PLL09', 'algset': 'PLL', 'case': 'H', 'catalog': 'EPLL', 'alt1': 'M2 U M2 U2 M2 U M2', 'alt2': \"M2 U' M2 U2 M2 U' M2\", 'alt3': \"M2' U' M2' U2' M2' U' M2'\", 'alt4': \"M2' U M2' U2 M2' U M2'\", 'vlink': 'https://www.youtube.com/watch?v=JvqGU0UZPcE&start=13s', 'vimg': 'https://img.youtube.com/vi/JvqGU0UZPcE/0.jpg', 'fc': 'yyyyyyyyyorooooooogbgggggggwwwwwwwwwrorrrrrrrbgbbbbbbb', 'ori': 0}, {'name': 'PLL10', 'algset': 'PLL', 'case': 'Ja', 'catalog': 'Adj Swap', 'alt1': \"y2 x R2 F R F' R U2 r' U r U2 x'\", 'alt2': \"L' U' L F L' U' L U L F' L2 U L\", 'alt3': \"y R' U L' U2 R U' R' U2 R L\", 'alt4': \"y2 M' R' F R F' R U2 r' U r U2 r'\", 'vlink': 'https://www.youtube.com/watch?v=TWN9LNCHQY8&start=104s', 'vimg': 'https://img.youtube.com/vi/TWN9LNCHQY8/0.jpg', 'fc': 'yyyyyyyyyrrrggggggoobrrrrrrwwwwwwwwwbbgbbbbbbggooooooo', 'ori': 0}, {'name': 'PLL11', 'algset': 'PLL', 'case': 'Jb', 'catalog': 'Adj Swap', 'alt1': \"R U R' F' R U R' U' R' F R2 U' R'\", 'alt2': \"R U2 R' U' R U2 L' U R' U' L\", 'alt3': \"L' U R U' L U2 R' U R U2 R'\", 'alt4': \"r' F R F' r U2 R' U R U2 R'\", 'vlink': 'https://www.youtube.com/watch?v=JvqGU0UZPcE&start=171s', 'vimg': 'https://img.youtube.com/vi/JvqGU0UZPcE/0.jpg', 'fc': 'yyyyyyyyyorroooooorggggggggwwwwwwwwwbbbrrrrrrgoobbbbbb', 'ori': 0}, {'name': 'PLL12', 'algset': 'PLL', 'case': 'Na', 'catalog': 'Opp Swap', 'alt1': \"R U R' U R U R' F' R U R' U' R' F R2 U' R' U2 R U' R'\", 'alt2': \"F' R U R' U' R' F R2 F U' R' U' R U F' R'\", 'alt3': \"R F U' R' U R U F' R2' F' R U R U' R' F\", 'alt4': \"r' D r U2 r' D r U2 r' D r U2 r' D r U2 r' D r\", 'vlink': '', 'vimg': '', 'fc': 'yyyyyyyyyorroooooobggggggggwwwwwwwwwroorrrrrrgbbbbbbbb', 'ori': 0}, {'name': 'PLL13', 'algset': 'PLL', 'case': 'Nb', 'catalog': 'Opp Swap', 'alt1': \"r' D' F r U' r' F' D r2 U r' U' r' F r F'\", 'alt2': \"R' U R U' R' F' U' F R U R' F R' F' R U' R\", 'alt3': \"R' U L' U2 R U' L R' U L' U2 R U' L\", 'alt4': \"R' U R U' R' F' U' F R U R' U' R U' f R f'\", 'vlink': '', 'vimg': '', 'fc': 'yyyyyyyyyrroooooooggbggggggwwwwwwwwwoorrrrrrrbbgbbbbbb', 'ori': 0}, {'name': 'PLL14', 'algset': 'PLL', 'case': 'Ra', 'catalog': 'Adj Swap', 'alt1': \"y R U' R' U' R U R D R' U' R D' R' U2 R'\", 'alt2': \"y R U R' F' R U2 R' U2 R' F R U R U2 R'\", 'alt3': \"L U2 L' U2 L F' L' U' L U L F L2\", 'alt4': \"y2 R U2 R' U2 R B' R' U' R U R B R2\", 'vlink': 'https://www.youtube.com/watch?v=JvqGU0UZPcE&start=190s', 'vimg': 'https://img.youtube.com/vi/JvqGU0UZPcE/0.jpg', 'fc': 'yyyyyyyyyrrgggggggbobrrrrrrwwwwwwwwwgbobbbbbbogroooooo', 'ori': 0}, {'name': 'PLL15', 'algset': 'PLL', 'case': 'Rb', 'catalog': 'Adj Swap', 'alt1': \"R' U2 R U2 R' F R U R' U' R' F' R2\", 'alt2': \"y R2 F R U R U' R' F' R U2 R' U2 R\", 'alt3': \"R' U2 R' D' R U' R' D R U R U' R' U' R\", 'alt4': \"y R2' F R U R U' R' F' R U2' R' U2 R\", 'vlink': 'https://www.youtube.com/watch?v=JvqGU0UZPcE&start=208s', 'vimg': 'https://img.youtube.com/vi/JvqGU0UZPcE/0.jpg', 'fc': 'yyyyyyyyygrooooooorgrggggggwwwwwwwwwobbrrrrrrbogbbbbbb', 'ori': 0}, {'name': 'PLL16', 'algset': 'PLL', 'case': 'T', 'catalog': 'Adj Swap', 'alt1': \"R U R' U' R' F R2 U' R' U' R U R' F'\", 'alt2': \"R U R' U' R' F R2 U' R' U F' L' U L\", 'alt3': \"y2 L' U' L U L F' L2 U L U L' U' L F\", 'alt4': \"R2 U R2 U' R2 U' D R2 U' R2 U R2 D'\", 'vlink': 'https://www.youtube.com/watch?v=JvqGU0UZPcE&start=227s', 'vimg': 'https://img.youtube.com/vi/JvqGU0UZPcE/0.jpg', 'fc': 'yyyyyyyyybrgooooooggoggggggwwwwwwwwwrorrrrrrrobbbbbbbb', 'ori': 0}, {'name': 'PLL17', 'algset': 'PLL', 'case': 'Ua', 'catalog': 'EPLL', 'alt1': \"y2 M2 U M U2 M' U M2\", 'alt2': \"R U R' U R' U' R2 U' R' U R' U R\", 'alt3': \"M2 U M' U2 M U M2\", 'alt4': \"y R2 U' S' U2' S U' R2\", 'vlink': 'https://www.youtube.com/watch?v=JvqGU0UZPcE&start=40s', 'vimg': 'https://img.youtube.com/vi/JvqGU0UZPcE/0.jpg', 'fc': 'yyyyyyyyyobooooooogggggggggwwwwwwwwwrorrrrrrrbrbbbbbbb', 'ori': 0}, {'name': 'PLL18', 'algset': 'PLL', 'case': 'Ub', 'catalog': 'EPLL', 'alt1': \"y2 M2 U' M U2 M' U' M2\", 'alt2': \"R' U R' U' R3 U' R' U R U R2\", 'alt3': \"y2 R2' U R U R' U' R3 U' R' U R'\", 'alt4': \"M2 U' M' U2 M U' M2\", 'vlink': 'https://www.youtube.com/watch?v=JvqGU0UZPcE&start=57s', 'vimg': 'https://img.youtube.com/vi/JvqGU0UZPcE/0.jpg', 'fc': 'yyyyyyyyyorooooooogggggggggwwwwwwwwwrbrrrrrrrbobbbbbbb', 'ori': 0}, {'name': 'PLL19', 'algset': 'PLL', 'case': 'V', 'catalog': 'Opp Swap', 'alt1': \"R' U R' U' R D' R' D R' U D' R2 U' R2' D R2\", 'alt2': \"y R U' R U R' D R D' R U' D R2 U R2 D' R2\", 'alt3': \"R' U R' U' y R' F' R2 U' R' U R' F R F\", 'alt4': \"R' U R U' R' f' U' R U2 R' U' R U' R' f R\", 'vlink': 'https://www.youtube.com/watch?v=1wUqCM94UlA&start=0s', 'vimg': 'https://img.youtube.com/vi/1wUqCM94UlA/0.jpg', 'fc': 'yyyyyyyyyrboooooooggbggggggwwwwwwwwworrrrrrrrbogbbbbbb', 'ori': 0}, {'name': 'PLL20', 'algset': 'PLL', 'case': 'Y', 'catalog': 'Opp Swap', 'alt1': \"F R U' R' U' R U R' F' R U R' U' R' F R F'\", 'alt2': \"F R' F R2 U' R' U' R U R' F' R U R' U' F'\", 'alt3': \"F R' F' R U R U' R2' U' R U R f' U' f\", 'alt4': \"R2 U' R2' U' R2 U F U F' R2' F U' F'\", 'vlink': 'https://www.youtube.com/watch?v=JvqGU0UZPcE&start=245s', 'vimg': 'https://img.youtube.com/vi/JvqGU0UZPcE/0.jpg', 'fc': 'yyyyyyyyyrooooooooggbggggggwwwwwwwwwobrrrrrrrbrgbbbbbb', 'ori': 0}, {'name': 'PLL21', 'algset': 'PLL', 'case': 'Z', 'catalog': 'EPLL', 'alt1': \"M2 U M2 U M' U2 M2 U2 M'\", 'alt2': \"M' U' M2' U' M2' U' M' U2' M2'\", 'alt3': 'y M2 U2 M U M2 U M2 U M', 'alt4': \"y M2 U' M2 U' M' U2 M2 U2 M'\", 'vlink': 'https://www.youtube.com/watch?v=JvqGU0UZPcE&start=25s', 'vimg': 'https://img.youtube.com/vi/JvqGU0UZPcE/0.jpg', 'fc': 'yyyyyyyyyrbroooooobrbggggggwwwwwwwwwogorrrrrrgogbbbbbb', 'ori': 0}]\n"
     ]
    }
   ],
   "source": [
    "all_algs = []\n",
    "algs = soup.select('div.row.mt-2.pt-3.mb-2.pb-3.singlealg.border-bottom')\n",
    "# for index, alg in enumerate([algs[0]]):\n",
    "for index, alg in enumerate(algs):\n",
    "    case = alg.find('h3').text\n",
    "    catalog = alg.find('h5').text\n",
    "\n",
    "    # video link and image (the later one)\n",
    "    if alg.select('li.list-group-item.text-center') != []:\n",
    "        video = alg.select('li.list-group-item.text-center')[-1]\n",
    "        vlink = video.find('a')['href']\n",
    "        vimg = video.find('img')['src']\n",
    "    else:\n",
    "        vlink = \"\"\n",
    "        vimg = \"\"\n",
    "\n",
    "    # face color info for plain view like OLL and PLL\n",
    "    if alg.select('div.jcube') !=[]:\n",
    "        img_raw = alg.select('div.jcube')[0]\n",
    "        fc = img_raw['data-us']+img_raw['data-ur']+img_raw['data-uf']+'wwwwwwwww'+img_raw['data-ul']+img_raw['data-ub']\n",
    "    else:\n",
    "        fc = \"\"\n",
    "\n",
    "    # F2L has 4 orientations (0,1,2,3), others 1 (0)\n",
    "    if algset == \"F2L\":\n",
    "        ori_range = range(0,4)\n",
    "    else:\n",
    "        ori_range = range(0,1)\n",
    "    \n",
    "    # alternative of algorithms\n",
    "    for ori in ori_range:\n",
    "        alt = [i.text for i in alg.select('div[data-ori=\"'+str(ori)+'\"]')[0].select('span')]\n",
    "        alt.extend([\"\"]*(4-len(alt)))\n",
    "        if ori == 0:\n",
    "            oriname = \"\"\n",
    "        else:\n",
    "            oriname = \"-\" + str(ori)\n",
    "            vlink = \"\"\n",
    "            vimg = \"\"\n",
    "        all_algs.append({\n",
    "            \"name\":algset + \"%02d\" % (index+1) + oriname,\n",
    "            \"algset\":algset,\n",
    "            \"case\":case,\n",
    "            \"catalog\":catalog,\n",
    "            \"alt1\":alt[0],\n",
    "            \"alt2\":alt[1],\n",
    "            \"alt3\":alt[2],\n",
    "            \"alt4\":alt[3],\n",
    "            \"vlink\":vlink,\n",
    "            \"vimg\":vimg,\n",
    "            \"fc\":fc,\n",
    "            \"ori\":ori\n",
    "    })          \n",
    "print(all_algs)"
   ]
  },
  {
   "cell_type": "code",
   "execution_count": 5,
   "metadata": {},
   "outputs": [],
   "source": [
    "import pandas as pd\n",
    "keys = all_algs[0].keys()\n",
    "\n",
    "pd.DataFrame(all_algs,columns=keys).to_csv('csv/' + algset + '.csv', encoding='utf-8',index=False) "
   ]
  },
  {
   "cell_type": "code",
   "execution_count": null,
   "metadata": {},
   "outputs": [],
   "source": []
  }
 ]
}